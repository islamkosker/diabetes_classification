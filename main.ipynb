{
 "cells": [
  {
   "cell_type": "code",
   "execution_count": null,
   "metadata": {},
   "outputs": [],
   "source": [
    "# Import libraries\n",
    "import pandas as pd\n",
    "import numpy as np\n",
    "import arff\n",
    "\n"
   ]
  },
  {
   "cell_type": "code",
   "execution_count": null,
   "metadata": {},
   "outputs": [],
   "source": [
    "# Constants\n",
    "FILE_NAME = 'diabet.arff'\n",
    "\n",
    "# Load ARFF file\n",
    "data = arff.load(open(FILE_NAME, 'r'))\n",
    "df = pd.DataFrame(data['data'], columns=[attr[0] for attr in data['attributes']])\n",
    "\n",
    "\n",
    "df.head()"
   ]
  },
  {
   "cell_type": "code",
   "execution_count": null,
   "metadata": {},
   "outputs": [],
   "source": [
    "\n",
    "# Shuffle dataset \n",
    "df = df.sample(frac=1).reset_index(drop=True)\n",
    "\n",
    "# Calculate train and test dataset size\n",
    "train_size = int(0.7 * len(df))\n",
    "test_size = len(df) - train_size\n",
    "\n",
    "# Split train and test dataset\n",
    "train_set = df[:train_size]\n",
    "test_set = df[train_size:]\n",
    "\n",
    "# Convert to category\n",
    "train_set['HastalikDurumu'] = train_set['HastalikDurumu'].astype('category')\n",
    "test_set['HastalikDurumu'] = test_set['HastalikDurumu'].astype('category')\n",
    "\n",
    "\n",
    "# Save train and test dataset\n",
    "def save_arff(df, filename, relation_name=\"relation\"):\n",
    "    attributes = [(col, 'NUMERIC' if df[col].dtype != 'category' else ['0', '1']) for col in df.columns]\n",
    "    arff_data = {\n",
    "        'relation': relation_name,\n",
    "        'attributes': attributes,\n",
    "        'data': df.values.tolist()\n",
    "    }\n",
    "    with open(filename, 'w') as f:\n",
    "        arff.dump(arff_data, f)\n",
    "\n",
    "\n",
    "save_arff(train_set, 'train_dataset.arff')\n",
    "save_arff(test_set, 'test_dataset.arff')\n",
    "\n"
   ]
  }
 ],
 "metadata": {
  "kernelspec": {
   "display_name": "venv",
   "language": "python",
   "name": "python3"
  },
  "language_info": {
   "codemirror_mode": {
    "name": "ipython",
    "version": 3
   },
   "file_extension": ".py",
   "mimetype": "text/x-python",
   "name": "python",
   "nbconvert_exporter": "python",
   "pygments_lexer": "ipython3",
   "version": "3.9.12"
  }
 },
 "nbformat": 4,
 "nbformat_minor": 2
}
